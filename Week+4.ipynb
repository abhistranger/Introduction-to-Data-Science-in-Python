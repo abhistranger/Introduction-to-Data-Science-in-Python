{
 "cells": [
  {
   "cell_type": "markdown",
   "metadata": {},
   "source": [
    "---\n",
    "\n",
    "_You are currently looking at **version 1.0** of this notebook. To download notebooks and datafiles, as well as get help on Jupyter notebooks in the Coursera platform, visit the [Jupyter Notebook FAQ](https://www.coursera.org/learn/python-data-analysis/resources/0dhYG) course resource._\n",
    "\n",
    "---"
   ]
  },
  {
   "cell_type": "markdown",
   "metadata": {},
   "source": [
    "# Distributions in Pandas"
   ]
  },
  {
   "cell_type": "code",
   "execution_count": 47,
   "metadata": {
    "collapsed": true
   },
   "outputs": [],
   "source": [
    "import pandas as pd\n",
    "import numpy as np"
   ]
  },
  {
   "cell_type": "code",
   "execution_count": 48,
   "metadata": {},
   "outputs": [
    {
     "data": {
      "text/plain": [
       "5.000136000136"
      ]
     },
     "execution_count": 48,
     "metadata": {},
     "output_type": "execute_result"
    }
   ],
   "source": [
    "np.random.binomial(10, 0.5,999999).mean()"
   ]
  },
  {
   "cell_type": "code",
   "execution_count": 26,
   "metadata": {},
   "outputs": [
    {
     "data": {
      "text/plain": [
       "0.509"
      ]
     },
     "execution_count": 26,
     "metadata": {},
     "output_type": "execute_result"
    }
   ],
   "source": [
    "np.random.binomial(1000, 0.5)/1000"
   ]
  },
  {
   "cell_type": "code",
   "execution_count": 35,
   "metadata": {},
   "outputs": [
    {
     "data": {
      "text/plain": [
       "14"
      ]
     },
     "execution_count": 35,
     "metadata": {},
     "output_type": "execute_result"
    }
   ],
   "source": [
    "chance_of_tornado = 0.01/100\n",
    "np.random.binomial(100000, chance_of_tornado)"
   ]
  },
  {
   "cell_type": "code",
   "execution_count": 49,
   "metadata": {},
   "outputs": [
    {
     "name": "stdout",
     "output_type": "stream",
     "text": [
      "94 tornadoes back to back in 2739.72602739726 years\n"
     ]
    }
   ],
   "source": [
    "chance_of_tornado = 0.01\n",
    "\n",
    "tornado_events = np.random.binomial(1, chance_of_tornado, 1000000)\n",
    "    \n",
    "two_days_in_a_row = 0\n",
    "for j in range(1,len(tornado_events)-1):\n",
    "    if tornado_events[j]==1 and tornado_events[j-1]==1:\n",
    "        two_days_in_a_row+=1\n",
    "\n",
    "print('{} tornadoes back to back in {} years'.format(two_days_in_a_row, 1000000/365))"
   ]
  },
  {
   "cell_type": "code",
   "execution_count": 64,
   "metadata": {},
   "outputs": [
    {
     "data": {
      "text/plain": [
       "10.052022628051805"
      ]
     },
     "execution_count": 64,
     "metadata": {},
     "output_type": "execute_result"
    }
   ],
   "source": [
    "np.random.uniform(0, 20, 10000).mean()"
   ]
  },
  {
   "cell_type": "code",
   "execution_count": 66,
   "metadata": {},
   "outputs": [
    {
     "data": {
      "text/plain": [
       "array([  5.79346597e-02,  -1.99932859e-01,   5.03157470e-01,\n",
       "         2.68566977e-02,   1.97686044e-01,   1.01565532e+00,\n",
       "         4.02621222e-01,   3.43053062e-01,   8.77726478e-02,\n",
       "         2.49295601e+00,   4.80178131e-01,   6.46328730e-01,\n",
       "         1.60917049e+00,  -4.63174548e-01,   1.24013005e-01,\n",
       "         1.23455120e+00,   1.72571829e+00,   1.88952894e+00,\n",
       "        -1.26629519e+00,   1.48437254e+00,  -7.60187198e-01,\n",
       "         2.27471616e+00,  -2.20126864e-01,   2.71609604e+00,\n",
       "         1.00350213e+00,   1.88508688e-01,   2.99226447e-01,\n",
       "         5.93795271e-01,   1.31303152e+00,  -7.54916323e-01,\n",
       "         1.31912581e+00,  -2.04818022e+00,   2.58660350e-01,\n",
       "        -1.95311865e-01,   2.37289909e-01,   2.67056466e+00,\n",
       "        -7.55587752e-01,   1.82627148e+00,   1.27906957e+00,\n",
       "         4.88845231e-02,   2.17120995e-01,   1.72365701e+00,\n",
       "         1.28743382e+00,  -3.39110611e-01,   1.34909066e+00,\n",
       "         8.79229350e-01,   1.45714333e+00,   1.01735143e+00,\n",
       "         2.00550766e+00,   2.08666780e+00,   3.96465360e-01,\n",
       "         1.80862693e+00,   1.08240017e+00,   1.45103860e-01,\n",
       "         1.46405722e+00,   3.01601119e-02,   2.45279072e+00,\n",
       "         2.37102840e+00,   1.27744417e+00,   1.78838000e-01,\n",
       "         1.99447544e+00,   3.27906181e-01,   1.89855125e+00,\n",
       "        -1.08527968e+00,  -1.29300735e+00,   5.22163347e-02,\n",
       "         8.63773502e-01,   2.49371235e+00,   1.67986351e+00,\n",
       "         1.07520846e+00,   1.74120272e+00,  -8.45800684e-01,\n",
       "         1.22313213e+00,  -1.98473855e-01,   7.36390479e-01,\n",
       "         1.15109801e+00,   2.87486503e-01,   1.03891711e+00,\n",
       "        -9.82852455e-01,   2.30568184e-01,  -6.37017052e-01,\n",
       "         3.13835040e+00,   5.73113493e-01,   2.24893635e+00,\n",
       "         1.48518822e+00,   1.23521235e+00,   9.04015689e-01,\n",
       "        -1.03301017e-01,   1.88759547e+00,   1.98527744e+00,\n",
       "         1.97005026e+00,  -1.90424817e+00,   4.03459413e-01,\n",
       "         4.64197562e-01,   1.70409611e+00,   1.64957159e+00,\n",
       "         1.63016618e+00,   9.30489353e-02,   9.75241797e-01,\n",
       "         4.88512066e-01,   1.82315891e+00,   3.99957652e-01,\n",
       "         1.91277642e+00,   2.71783368e+00,   4.63013660e-01,\n",
       "        -8.74428353e-02,   1.12824773e+00,  -3.77034315e-01,\n",
       "         1.77138803e+00,  -5.27804330e-01,   1.23713739e-01,\n",
       "         1.36169631e-01,   4.45226671e-02,   6.22999046e-01,\n",
       "         1.53499972e+00,   2.73386811e+00,   8.59001674e-01,\n",
       "         1.70653427e+00,  -5.97705971e-01,   6.78834196e-01,\n",
       "        -3.01243129e-01,   1.61257206e+00,   2.79377217e+00,\n",
       "         1.61610187e-01,   9.79654374e-01,  -2.97074715e-03,\n",
       "         2.54962020e+00,   1.55236711e+00,   2.20363184e+00,\n",
       "         4.97092355e-01,   5.07433750e-01,  -5.76695375e-02,\n",
       "        -6.96344208e-01,  -6.30955188e-02,   6.71715153e-01,\n",
       "        -8.02232661e-01,  -4.53838202e-01,   1.97668323e+00,\n",
       "         7.74522350e-01,  -8.03223046e-03,   4.75744818e-02,\n",
       "         1.55254367e+00,   1.01327216e-01,   2.00647270e+00,\n",
       "         2.71221355e-01,   1.19966982e+00,  -2.97598784e-01,\n",
       "        -2.67421370e-01,  -5.62530997e-01,  -4.64769238e-01,\n",
       "         2.32366913e-02,   4.56979676e-01,   8.81165591e-01,\n",
       "         2.47496250e+00,   8.69056914e-01,   8.44201347e-01,\n",
       "         3.60548548e-01,  -4.09888650e-01,   7.34112986e-01,\n",
       "         2.82402295e-01,   2.47459995e+00,   1.33806774e+00,\n",
       "         1.57374224e+00,  -5.06991713e-01,   1.75997784e+00,\n",
       "         1.57352740e+00,  -2.35388847e-03,   6.29142773e-01,\n",
       "         3.43838077e-02,   6.85154004e-01,   1.05982651e+00,\n",
       "         1.48706547e-01,   3.18199729e-01,   8.06428730e-01,\n",
       "        -5.51475462e-01,   8.82290882e-01,   7.89082312e-01,\n",
       "         7.46526340e-01,  -1.01598075e+00,   9.48310050e-01,\n",
       "         2.67014500e-01,   2.67455753e-01,   3.09121751e-01,\n",
       "         1.09997581e+00,   5.39262807e-01,  -3.04725341e-01,\n",
       "         6.55135948e-01,  -1.90632246e-01,   1.48874790e+00,\n",
       "         1.84297149e+00,   4.41017480e-01,  -2.18509015e-02,\n",
       "         1.91769124e+00,   1.33254989e+00,   8.85382926e-01,\n",
       "         1.22719635e+00,   3.02724110e-01,   4.74244291e-01,\n",
       "         1.11227672e+00,   5.31954637e-01,   2.32934005e-01,\n",
       "         1.54347948e+00,   7.51759565e-01,   1.63911348e+00,\n",
       "        -7.18324537e-01,   7.94056325e-01,   7.98711012e-01,\n",
       "         2.03997261e+00,   1.55839842e+00,  -8.50056381e-01,\n",
       "        -4.57932727e-02,  -3.72214270e-01,   2.10656179e-01,\n",
       "         9.43733358e-01,   1.00202419e+00,  -6.62103922e-01,\n",
       "         1.28025472e+00,   2.25729642e+00,  -8.17332184e-01,\n",
       "         7.88201671e-01,  -1.65670945e+00,  -7.83250877e-02,\n",
       "         1.62964277e+00,   5.24643239e-01,   9.83753524e-02,\n",
       "         1.67641837e+00,   8.73792961e-01,   8.62483565e-01,\n",
       "        -8.14399717e-01,  -3.48512858e-01,   1.98796680e+00,\n",
       "        -2.33752708e-04,   2.44390364e+00,   4.19933783e-01,\n",
       "        -1.62694568e+00,   1.93752365e-01,   2.14320442e+00,\n",
       "         2.29422552e+00,   8.84474078e-01,   1.26102969e+00,\n",
       "         3.35951927e-01,  -4.51084436e-01,   1.02471293e+00,\n",
       "         2.05579163e+00,   6.67526115e-01,   3.23044108e+00,\n",
       "         2.33740815e+00,   1.21091865e+00,   2.29356059e+00,\n",
       "         3.55740065e-01,   1.46428475e+00,   1.83870524e+00,\n",
       "        -5.23503720e-01,   1.40245874e+00,  -1.26064838e-01,\n",
       "         5.38237166e-01,   9.35038766e-01,  -2.33798208e-01,\n",
       "         7.45447265e-01,   8.86812329e-03,  -2.97527405e-01,\n",
       "         1.83515706e+00,   1.76786024e+00,   7.05243014e-01,\n",
       "        -1.81144170e-01,   1.38426996e-02,   1.44117076e+00,\n",
       "         1.12965900e+00,  -3.51286839e-01,   1.24136563e-01,\n",
       "         7.65239459e-01,   2.15302211e+00,   1.32024351e+00,\n",
       "         3.73280833e-01,   1.82029208e-01,   1.25031991e+00,\n",
       "         4.23571329e-01,   1.22156526e+00,   7.10197989e-01,\n",
       "         1.82769669e+00,   7.63641310e-01,   4.76719364e-01,\n",
       "         1.71567744e+00,   2.43844639e+00,   3.19499394e+00,\n",
       "         2.42530851e+00,   7.17825902e-01,  -7.05651048e-01,\n",
       "         7.13514041e-01,   1.26963923e+00,   9.87212162e-01,\n",
       "         1.74752627e+00,   3.58870403e-01,  -4.72216249e-01,\n",
       "         4.52612466e-01,   1.71503626e+00,   1.66305349e+00,\n",
       "         9.11321470e-01,   2.68382105e-01,   8.83536140e-01,\n",
       "         9.10795216e-02,   7.99039917e-01,   1.34037653e+00,\n",
       "         8.97878009e-01,  -1.41506147e-01,  -1.90355574e-01,\n",
       "         1.78846114e+00,  -1.72164978e+00,   7.29378984e-01,\n",
       "         7.43679458e-01,   2.01424878e+00,   1.27310111e+00,\n",
       "         2.40109878e+00,   1.17412313e+00,   1.45251964e+00,\n",
       "         1.41260299e+00,   5.36576946e-01,   8.82897570e-01,\n",
       "         3.82194756e-01,   1.03388658e+00,   2.03904599e+00,\n",
       "         1.35961063e+00,  -1.66730325e-01,   2.22263089e-01,\n",
       "         1.13255211e-01,   1.06971269e+00,   1.04834240e-01,\n",
       "         4.15757544e-01,   7.04924808e-01,   2.58802425e+00,\n",
       "         9.24135851e-01,   2.68073308e+00,  -2.36684464e-01,\n",
       "         7.65000006e-01,   1.65956663e+00,  -1.02785900e+00,\n",
       "         1.69951968e+00,   2.00471399e+00,   1.28869989e+00,\n",
       "         1.10197670e+00,   2.28305272e+00,   2.06783798e+00,\n",
       "         1.01515965e+00,  -5.24577232e-02,   1.94205821e+00,\n",
       "        -2.61230094e-02,   1.70663540e+00,   2.32112982e-01,\n",
       "        -3.02566004e-02,   5.43086400e-01,   8.99723315e-01,\n",
       "        -6.39296791e-01,   2.03479081e+00,   7.56907199e-01,\n",
       "        -2.43731195e-01,   6.58304758e-01,   8.43476623e-01,\n",
       "         3.19299063e-01,   1.53039952e+00,   5.81449780e-01,\n",
       "         1.08756846e+00,   1.16775302e+00,   5.04233168e-01,\n",
       "         1.09581476e+00,   1.94155986e-01,   1.51364138e+00,\n",
       "         4.83946633e-01,   2.22888385e+00,  -3.86822428e-01,\n",
       "         2.72996734e+00,   8.31088864e-01,   2.59741869e+00,\n",
       "         8.15912352e-01,   1.95556932e+00,   7.11958642e-01,\n",
       "         7.18379799e-01,   8.41468910e-01,   7.56824271e-01,\n",
       "        -6.63790096e-01,   1.24284930e+00,  -1.79080641e+00,\n",
       "         2.16149570e+00,  -8.35972367e-01,   6.58389282e-01,\n",
       "        -1.45459338e+00,   2.14339877e+00,   1.09949686e+00,\n",
       "         7.16642194e-01,  -1.22306800e+00,   2.51787782e+00,\n",
       "         1.33538284e+00,   1.83292301e+00,  -1.17712524e-01,\n",
       "         6.23006394e-01,   3.21529143e-01,   9.32172259e-01,\n",
       "         8.24253862e-01,   7.09846996e-02,   6.00808890e-01,\n",
       "         9.96006801e-01,  -6.87966789e-02,   8.54290121e-01,\n",
       "         1.48574743e-01,   3.34291367e-01,  -4.38384578e-01,\n",
       "         1.74221334e+00,   6.39654654e-03,   7.42601238e-01,\n",
       "         4.63934002e-01,   1.86907388e+00,   1.41658193e+00,\n",
       "         1.63213417e+00,  -7.83937655e-01,  -1.12401734e+00,\n",
       "         2.10557794e-01,   1.87121773e-01,   1.50860256e+00,\n",
       "         3.71045972e+00,   1.44056698e+00,  -4.86272313e-01,\n",
       "        -3.62094607e-01,   3.50282600e-01,   2.74502204e-01,\n",
       "         1.33298337e+00,   2.11079199e-01,   7.87394675e-01,\n",
       "         4.70178024e-01,   1.52785214e+00,   1.32473468e-01,\n",
       "        -2.29622375e-01,   4.73530466e-01,   2.43389592e+00,\n",
       "        -1.33913398e-01,  -8.06569118e-01,   1.04189114e+00,\n",
       "         6.10419061e-01,   2.91039811e+00,   8.88985218e-02,\n",
       "         2.14450688e+00,   1.90049510e+00,  -1.77177725e-01,\n",
       "         7.77111308e-01,   3.39048885e-01,  -4.97329986e-01,\n",
       "        -1.62333425e+00,  -1.31406924e+00,  -1.52060102e-02,\n",
       "        -5.29298456e-01,   2.84677982e+00,   1.68132210e+00,\n",
       "         1.27101805e+00,   4.75596179e-01,   1.80756821e+00,\n",
       "         6.99102873e-01,   7.48268329e-01,   5.56040832e-02,\n",
       "         1.24276227e+00,  -4.81939304e-01,   1.32544387e+00,\n",
       "        -1.47837639e+00,   1.87846886e+00,  -2.25918101e-01,\n",
       "         1.51174122e+00,   4.25084843e-01,   1.27686739e+00,\n",
       "         2.05251288e+00,   8.71155303e-01,  -5.94233158e-01,\n",
       "         2.09720291e+00,  -2.00779918e-01,  -5.01248194e-01,\n",
       "         2.67400452e-01,  -4.81529812e-01,   2.26967836e+00,\n",
       "        -8.58976782e-01,  -9.29827684e-02,   6.17955663e-01,\n",
       "         1.73192844e+00,   4.40935646e-01,   1.25319786e+00,\n",
       "        -1.10504398e+00,  -1.17463188e+00,   1.50515820e-01,\n",
       "        -2.91130823e-01,   1.02950694e+00,  -5.42411115e-01,\n",
       "         2.05975100e-01,   1.38347949e+00,   7.74394052e-01,\n",
       "         1.31325996e-01,   1.61181688e+00,   9.22023537e-01,\n",
       "         1.37343158e+00,   1.16324749e+00,   7.52982062e-01,\n",
       "         1.78470432e+00,   9.20174302e-02,   2.41783866e+00,\n",
       "         1.93805089e+00,   2.12613206e+00,   1.31679432e+00,\n",
       "         8.88081801e-01,   1.34192020e+00,   1.05376333e-01,\n",
       "         6.86891574e-01,   9.88731762e-01,   7.39637932e-01,\n",
       "         2.85500247e+00,   8.06016519e-01,  -7.15575430e-01,\n",
       "         1.30354291e+00,   1.61791859e-01,   8.28488797e-01,\n",
       "         4.86607385e-01,  -1.49097532e+00,   2.60069657e-01,\n",
       "         1.79049261e+00,  -1.30536966e+00,   4.75006366e-01,\n",
       "         1.67088521e-01,   5.66253967e-01,   1.64082391e-01,\n",
       "        -2.32080236e+00,  -9.02368954e-01,   1.16825622e+00,\n",
       "         3.46794794e-01,   2.25267560e+00,   7.30873021e-01,\n",
       "         1.09663990e+00,   9.05586801e-01,   1.90027929e-01,\n",
       "         8.40037848e-02,   9.99749904e-01,  -8.59624976e-01,\n",
       "         4.24069115e-01,   1.72936274e+00,   3.06064201e-01,\n",
       "         5.97883265e-01,   1.58958540e-01,   1.38504127e+00,\n",
       "         8.58141303e-01,   3.50670374e-01,   8.76492841e-01,\n",
       "         2.57740021e-01,   8.66600448e-01,   1.30342048e+00,\n",
       "        -3.01507530e-01,  -1.86913346e+00,   3.93361753e-01,\n",
       "         2.02369166e+00,  -1.15169503e-01,   1.53361771e+00,\n",
       "         7.93668477e-02,   2.58093313e-02,  -1.35308146e+00,\n",
       "         2.19021873e+00,   1.03105471e+00,   1.96131442e+00,\n",
       "         1.96121927e+00,  -9.02316397e-01,   2.05827175e-01,\n",
       "         1.56123058e+00,   1.09597412e+00,  -1.83653996e-01,\n",
       "        -3.52765915e-02,   1.28898655e+00,  -2.72133200e-01,\n",
       "         1.83871323e-01,   2.18384638e+00,   1.60541354e+00,\n",
       "         1.54892031e+00,   2.62635002e-01,   2.29715706e+00,\n",
       "         1.12333007e+00,   1.51427832e+00,   9.84184507e-02,\n",
       "        -3.45745915e-03,   1.16953725e+00,   3.05780914e-01,\n",
       "         1.38357276e+00,   5.06947693e-01,   9.10105068e-01,\n",
       "        -1.95647873e+00,   1.22271112e+00,   1.40135886e+00,\n",
       "         6.29935443e-01,  -1.44229799e-01,   3.02138232e+00,\n",
       "        -1.09179574e+00,  -2.79833911e-01,   1.33132396e+00,\n",
       "         1.39789327e+00,   3.37389801e+00,  -4.90163169e-01,\n",
       "         1.22290196e+00,  -1.27887460e-01,   1.18352762e+00,\n",
       "         7.36911604e-01,   4.34163089e-01,   4.69405983e-01,\n",
       "        -6.68366140e-02,   1.59924277e-01,   1.05591882e+00,\n",
       "        -2.12779504e-01,   4.64149828e-01,   5.40900046e-01,\n",
       "         3.33461149e-01,   1.47931964e+00,  -5.98113988e-01,\n",
       "         2.23497577e+00,   1.84099692e+00,   2.29259496e+00,\n",
       "         9.22152296e-01,   1.66544771e+00,   6.61093993e-01,\n",
       "         1.80227234e+00,   8.09483877e-01,  -7.77429663e-01,\n",
       "         1.35678822e-01,   1.18953257e-01,   1.45181502e+00,\n",
       "        -3.52621357e-01,   4.19968081e-01,  -1.05770819e+00,\n",
       "        -5.95503007e-01,   2.35439994e+00,   7.77913895e-01,\n",
       "        -1.23187204e+00,   9.66764375e-01,  -3.60638352e-01,\n",
       "        -6.13499761e-02,   4.18766806e-01,   7.01427711e-01,\n",
       "         1.61685751e+00,   1.43981819e-01,   3.10566725e-01,\n",
       "         9.67860022e-01,   7.31375922e-01,   1.74089155e+00,\n",
       "         6.38944894e-01,   9.83233501e-02,   1.34705677e+00,\n",
       "         1.57920122e+00,   1.61736649e+00,  -3.24848435e-01,\n",
       "         1.74426995e+00,   1.87309596e-01,   3.66436977e-01,\n",
       "         1.61625646e+00,   1.75786669e+00,   2.08554749e+00,\n",
       "         2.63905344e-01,   1.78185643e+00,   1.85927577e-03,\n",
       "         7.04596105e-01,   1.15345579e-01,   1.31082902e+00,\n",
       "         1.11915108e+00,   1.16447374e+00,   1.74718684e+00,\n",
       "        -8.21223720e-02,  -1.84244328e+00,   7.89906819e-01,\n",
       "         4.49570546e-01,  -6.62436667e-01,   9.23578804e-01,\n",
       "         4.89494202e-01,  -9.66781036e-01,   6.62781716e-01,\n",
       "        -4.05046181e-01,  -2.30956351e-01,  -2.45545147e-01,\n",
       "         2.14523397e+00,  -3.37041775e-01,  -1.77214836e-01,\n",
       "         1.09843275e+00,  -9.56274605e-01,   1.17395308e+00,\n",
       "         1.20456535e+00,   1.39334726e+00,   1.20231332e+00,\n",
       "         2.04636691e+00,   5.71476899e-01,   6.36262785e-01,\n",
       "         2.87635779e-01,   1.53894066e+00,  -4.14559780e-02,\n",
       "        -2.56035999e-01,   8.19196705e-01,   1.26929147e+00,\n",
       "         1.16172289e+00,   1.25814030e+00,  -2.20167368e-01,\n",
       "         9.26928311e-01,   1.16789383e+00,   9.71784952e-01,\n",
       "         7.12020893e-01,  -4.46412890e-01,   2.90495522e-01,\n",
       "         1.14311127e+00,   3.26175571e-01,   1.89683781e+00,\n",
       "         7.85583135e-01,  -1.36747906e-01,   5.98053785e-01,\n",
       "        -7.34325421e-01,   4.12875001e-01,   2.26016078e+00,\n",
       "         1.81471570e-01,  -2.56785405e-01,   1.08510269e+00,\n",
       "         1.87446762e-01,   4.30380981e-01,   1.00410876e+00,\n",
       "         1.78992613e-02,   1.43568052e+00,   1.34760580e+00,\n",
       "         3.17402166e-01,  -5.43536881e-01,   7.22190396e-01,\n",
       "         2.99941113e+00,   7.78907677e-01,   4.31507953e-01,\n",
       "         8.73680498e-02,   1.94942395e+00,   2.35417555e+00,\n",
       "         1.77374136e+00,   1.39300628e-01,   2.11391585e-01,\n",
       "        -4.45089043e-01,  -1.02809248e+00,   1.20006613e+00,\n",
       "         1.10265537e+00,   1.82321236e+00,   9.86290249e-01,\n",
       "         5.65115648e-02,   6.49896198e-01,   1.62102934e+00,\n",
       "        -3.01802108e-01,   1.18672368e+00,   2.03236912e+00,\n",
       "         2.04492381e+00,   1.26443783e+00,   6.36490042e-01,\n",
       "         2.12628608e+00,   1.11383304e+00,   1.42299315e+00,\n",
       "         1.82128806e+00,   1.69355126e+00,   9.89284351e-01,\n",
       "         1.32763593e+00,  -9.78891498e-01,   1.45392879e+00,\n",
       "        -1.30852674e+00,   7.70271538e-01,   1.20860170e+00,\n",
       "         9.98609091e-01,   2.67486642e+00,  -3.55837384e-01,\n",
       "         5.85044858e-01,  -2.55936939e-01,   9.77551187e-01,\n",
       "         5.10093549e-01,   6.78079597e-02,  -7.63190349e-02,\n",
       "         1.25794012e+00,   1.63985230e+00,   1.63489573e+00,\n",
       "         6.87535671e-01,   1.38902448e+00,  -3.45486385e-01,\n",
       "        -3.67396460e-01,   1.06998480e-01,   1.42650610e+00,\n",
       "         7.31344965e-01,   7.93583546e-01,   5.00629773e-02,\n",
       "         5.95023638e-01,  -1.01202864e-01,   1.90548759e+00,\n",
       "         1.54706056e-01,  -6.98936841e-01,   7.67285554e-01,\n",
       "        -4.07496132e-01,  -2.34379054e-01,  -7.51633591e-01,\n",
       "        -5.33270357e-01,   4.53906468e-01,   2.25487016e+00,\n",
       "        -6.32082599e-01,   1.03514246e+00,  -3.90933767e-01,\n",
       "         6.37092954e-01,   1.63469678e+00,   4.98806754e-01,\n",
       "         1.14949370e+00,  -1.46809431e-01,   2.52977515e+00,\n",
       "         1.41173405e+00,  -5.90504725e-01,   9.76218852e-01,\n",
       "         6.06530577e-01,   1.28710212e-01,  -1.47755538e-01,\n",
       "         1.23868841e+00,   1.04102002e+00,   2.18814223e+00,\n",
       "        -3.63658325e-01,   3.55157012e+00,   1.13487012e+00,\n",
       "         1.60895146e+00,   8.21509070e-01,   2.54252250e-02,\n",
       "         1.24497119e+00,   2.86474160e-01,   4.82376059e-01,\n",
       "         2.86077478e-01,   1.91074565e+00,   6.45142458e-01,\n",
       "         4.31742228e-02,   1.26830951e+00,   7.73209942e-01,\n",
       "        -1.80135523e-02,   1.73913750e+00,   5.96888318e-01,\n",
       "         5.41493453e-01,   1.29650794e-01,   1.91920448e+00,\n",
       "         5.77921402e-01,   1.91635896e+00,   1.32381535e+00,\n",
       "         6.56739064e-01,   7.70123315e-01,   4.34674210e-01,\n",
       "         7.01574494e-01,   8.52754862e-01,   3.61038637e-01,\n",
       "         7.99020113e-01,   1.41551976e-01,   5.13903989e-01,\n",
       "         1.95854459e+00,   1.72301426e+00,  -7.67628586e-01,\n",
       "         1.02730540e+00,   2.13653432e+00,   5.97633943e-01,\n",
       "         1.95115881e+00,   1.61112479e+00,  -8.04570183e-02,\n",
       "         1.58780150e+00,  -4.81777678e-01,   4.66390840e-01,\n",
       "         5.40017374e-01,   2.80584195e-01,   1.94232927e-02,\n",
       "         1.34379676e+00,   1.61365565e+00,   1.15235188e+00,\n",
       "         1.29690880e-02,   1.69905717e-01,   1.91273165e+00,\n",
       "         3.65414759e-04,   2.52645688e+00,   2.48016241e-01,\n",
       "         1.10941299e+00,   2.88348774e+00,   1.86132930e-01,\n",
       "         7.46524401e-01,   4.20287582e-02,  -4.83631396e-01,\n",
       "         1.11070328e+00,   1.44042948e+00,   1.93135358e+00,\n",
       "         1.18944516e+00,   1.38661006e+00,   5.97127833e-01,\n",
       "         3.71547824e-02,   1.22769808e+00,   1.59194801e+00,\n",
       "         1.29177753e+00,   2.12740872e+00,  -1.02558284e-01,\n",
       "         9.68912718e-01,  -7.74097059e-01,   4.56752993e-01,\n",
       "         1.16909482e+00,   1.37341233e+00,   1.31148318e+00,\n",
       "         1.37369302e+00,   7.05595066e-01,  -1.64995571e-01,\n",
       "         6.17635405e-01,   2.81631899e+00,  -3.71287000e-01,\n",
       "         1.75729006e+00,   1.11956075e+00,   1.32736348e+00,\n",
       "         2.63940157e+00,   5.65931745e-01,   1.02958593e-01,\n",
       "        -1.66486959e-01,  -1.24216752e+00,   1.53294951e+00,\n",
       "         1.34359696e+00,   1.60835376e+00,   8.25897779e-01,\n",
       "         2.80803349e-02,   4.83970684e-01,   1.91631258e+00,\n",
       "         4.65184502e-01,   9.36225796e-01,   2.23592237e+00,\n",
       "         8.74640203e-01,   1.36055635e+00,  -1.18364174e-01,\n",
       "         2.56731957e+00,   4.23022848e-01,   1.54113871e+00,\n",
       "         1.62433016e-01,   1.29159443e+00,   2.58717072e+00,\n",
       "         9.22280388e-01,   1.05230084e+00,   9.83335715e-01,\n",
       "         8.27026038e-01,  -1.07711482e+00,   2.11203117e+00,\n",
       "         1.24433772e+00,   1.14365135e+00,   2.73795721e+00,\n",
       "        -1.08229589e+00,   1.77176821e+00,  -1.14515880e+00,\n",
       "         3.22183307e-02,   3.75585211e-01,   1.17329578e+00,\n",
       "         1.10241708e+00,   9.28648090e-01,  -7.83647910e-01,\n",
       "         3.36362591e-01,  -1.91630053e-01,   1.47000050e+00,\n",
       "         1.55803324e+00,   1.82425356e+00,   5.99377636e-01,\n",
       "        -2.06830733e-01,   2.47492633e+00,   8.09669906e-01,\n",
       "         1.48446201e+00,   1.46293490e+00,   8.66104580e-01,\n",
       "         1.78789680e+00,   1.21924579e+00,   1.43589266e+00,\n",
       "         1.57276568e-01,   9.09531479e-01,  -3.13079263e-02,\n",
       "         1.30328793e+00,   5.50602360e-01,   1.61709215e+00,\n",
       "         1.91747503e+00,  -7.14168491e-01,  -1.94648310e-01,\n",
       "        -1.45332234e+00,   1.41650808e+00,   8.46406147e-01,\n",
       "         1.81421841e+00,   6.30627039e-01,   3.09258968e+00,\n",
       "         6.89970393e-01,   5.33422449e-01,  -1.20363764e+00,\n",
       "         1.44017836e+00,   6.31104906e-01,   1.49368687e+00,\n",
       "         1.41549364e+00,   2.33694069e+00,   3.47383022e-01,\n",
       "         7.08680615e-01,  -3.91104142e-01,   3.77931721e+00,\n",
       "         1.56339590e+00,   1.87037540e+00,   1.84913408e+00,\n",
       "         2.69294902e+00,   5.37378682e-01,   2.29190163e-01,\n",
       "         4.13404778e-01,  -1.70003187e-01,   8.16262091e-01,\n",
       "         7.21099379e-01,   1.85791655e+00,   1.77357950e+00,\n",
       "         2.78672603e+00,   6.52167929e-01,   8.33980927e-02,\n",
       "         2.62896427e+00,  -5.64335867e-01,   6.34585136e-01,\n",
       "         5.62179058e-01])"
      ]
     },
     "execution_count": 66,
     "metadata": {},
     "output_type": "execute_result"
    }
   ],
   "source": [
    "np.random.normal(0.75, size = 1000)"
   ]
  },
  {
   "cell_type": "markdown",
   "metadata": {},
   "source": [
    "Formula for standard deviation\n",
    "$$\\sqrt{\\frac{1}{N} \\sum_{i=1}^N (x_i - \\overline{x})^2}$$"
   ]
  },
  {
   "cell_type": "code",
   "execution_count": 81,
   "metadata": {},
   "outputs": [
    {
     "data": {
      "text/plain": [
       "1.0090465515513527"
      ]
     },
     "execution_count": 81,
     "metadata": {},
     "output_type": "execute_result"
    }
   ],
   "source": [
    "distribution = np.random.normal(0.75,size=1000)\n",
    "\n",
    "np.sqrt(np.sum((np.mean(distribution)-distribution)**2)/len(distribution))"
   ]
  },
  {
   "cell_type": "code",
   "execution_count": 82,
   "metadata": {
    "scrolled": true
   },
   "outputs": [
    {
     "data": {
      "text/plain": [
       "1.0090465515513527"
      ]
     },
     "execution_count": 82,
     "metadata": {},
     "output_type": "execute_result"
    }
   ],
   "source": [
    "np.std(distribution)"
   ]
  },
  {
   "cell_type": "code",
   "execution_count": 83,
   "metadata": {},
   "outputs": [
    {
     "data": {
      "text/plain": [
       "-0.18053625034230247"
      ]
     },
     "execution_count": 83,
     "metadata": {},
     "output_type": "execute_result"
    }
   ],
   "source": [
    "import scipy.stats as stats\n",
    "stats.kurtosis(distribution)"
   ]
  },
  {
   "cell_type": "code",
   "execution_count": 84,
   "metadata": {},
   "outputs": [
    {
     "data": {
      "text/plain": [
       "0.07360150096998752"
      ]
     },
     "execution_count": 84,
     "metadata": {},
     "output_type": "execute_result"
    }
   ],
   "source": [
    "stats.skew(distribution)"
   ]
  },
  {
   "cell_type": "code",
   "execution_count": 91,
   "metadata": {},
   "outputs": [
    {
     "data": {
      "text/plain": [
       "1.9056038232833479"
      ]
     },
     "execution_count": 91,
     "metadata": {},
     "output_type": "execute_result"
    }
   ],
   "source": [
    "chi_squared_df2 = np.random.chisquare(2, size=10000)\n",
    "stats.skew(chi_squared_df2)"
   ]
  },
  {
   "cell_type": "code",
   "execution_count": 92,
   "metadata": {},
   "outputs": [
    {
     "data": {
      "text/plain": [
       "0.9177158251079685"
      ]
     },
     "execution_count": 92,
     "metadata": {},
     "output_type": "execute_result"
    }
   ],
   "source": [
    "chi_squared_df5 = np.random.chisquare(10, size=10000)\n",
    "stats.skew(chi_squared_df5)"
   ]
  },
  {
   "cell_type": "code",
   "execution_count": 93,
   "metadata": {},
   "outputs": [
    {
     "data": {
      "text/plain": [
       "<matplotlib.legend.Legend at 0x7fefce5fd0b8>"
      ]
     },
     "execution_count": 93,
     "metadata": {},
     "output_type": "execute_result"
    },
    {
     "data": {
      "image/png": "[encoded data removed]",
      "text/plain": [
       "<matplotlib.figure.Figure at 0x7fefce5f43c8>"
      ]
     },
     "metadata": {},
     "output_type": "display_data"
    }
   ],
   "source": [
    "%matplotlib inline\n",
    "import matplotlib\n",
    "import matplotlib.pyplot as plt\n",
    "\n",
    "output = plt.hist([chi_squared_df2,chi_squared_df5], bins=50, histtype='step', \n",
    "                  label=['2 degrees of freedom','5 degrees of freedom'])\n",
    "plt.legend(loc='upper right')\n"
   ]
  },
  {
   "cell_type": "markdown",
   "metadata": {},
   "source": [
    "# Hypothesis Testing"
   ]
  },
  {
   "cell_type": "code",
   "execution_count": 96,
   "metadata": {
    "collapsed": true
   },
   "outputs": [],
   "source": [
    "df = pd.read_csv('grades.csv')"
   ]
  },
  {
   "cell_type": "code",
   "execution_count": 95,
   "metadata": {},
   "outputs": [
    {
     "data": {
      "text/html": [
       "<div>\n",
       "<table border=\"1\" class=\"dataframe\">\n",
       "  <thead>\n",
       "    <tr style=\"text-align: right;\">\n",
       "      <th></th>\n",
       "      <th>student_id</th>\n",
       "      <th>assignment1_grade</th>\n",
       "      <th>assignment1_submission</th>\n",
       "      <th>assignment2_grade</th>\n",
       "      <th>assignment2_submission</th>\n",
       "      <th>assignment3_grade</th>\n",
       "      <th>assignment3_submission</th>\n",
       "      <th>assignment4_grade</th>\n",
       "      <th>assignment4_submission</th>\n",
       "      <th>assignment5_grade</th>\n",
       "      <th>assignment5_submission</th>\n",
       "      <th>assignment6_grade</th>\n",
       "      <th>assignment6_submission</th>\n",
       "    </tr>\n",
       "  </thead>\n",
       "  <tbody>\n",
       "    <tr>\n",
       "      <th>0</th>\n",
       "      <td>B73F2C11-70F0-E37D-8B10-1D20AFED50B1</td>\n",
       "      <td>92.733946</td>\n",
       "      <td>2015-11-02 06:55:34.282000000</td>\n",
       "      <td>83.030552</td>\n",
       "      <td>2015-11-09 02:22:58.938000000</td>\n",
       "      <td>67.164441</td>\n",
       "      <td>2015-11-12 08:58:33.998000000</td>\n",
       "      <td>53.011553</td>\n",
       "      <td>2015-11-16 01:21:24.663000000</td>\n",
       "      <td>47.710398</td>\n",
       "      <td>2015-11-20 13:24:59.692000000</td>\n",
       "      <td>38.168318</td>\n",
       "      <td>2015-11-22 18:31:15.934000000</td>\n",
       "    </tr>\n",
       "    <tr>\n",
       "      <th>1</th>\n",
       "      <td>98A0FAE0-A19A-13D2-4BB5-CFBFD94031D1</td>\n",
       "      <td>86.790821</td>\n",
       "      <td>2015-11-29 14:57:44.429000000</td>\n",
       "      <td>86.290821</td>\n",
       "      <td>2015-12-06 17:41:18.449000000</td>\n",
       "      <td>69.772657</td>\n",
       "      <td>2015-12-10 08:54:55.904000000</td>\n",
       "      <td>55.098125</td>\n",
       "      <td>2015-12-13 17:32:30.941000000</td>\n",
       "      <td>49.588313</td>\n",
       "      <td>2015-12-19 23:26:39.285000000</td>\n",
       "      <td>44.629482</td>\n",
       "      <td>2015-12-21 17:07:24.275000000</td>\n",
       "    </tr>\n",
       "    <tr>\n",
       "      <th>2</th>\n",
       "      <td>D0F62040-CEB0-904C-F563-2F8620916C4E</td>\n",
       "      <td>85.512541</td>\n",
       "      <td>2016-01-09 05:36:02.389000000</td>\n",
       "      <td>85.512541</td>\n",
       "      <td>2016-01-09 06:39:44.416000000</td>\n",
       "      <td>68.410033</td>\n",
       "      <td>2016-01-15 20:22:45.882000000</td>\n",
       "      <td>54.728026</td>\n",
       "      <td>2016-01-11 12:41:50.749000000</td>\n",
       "      <td>49.255224</td>\n",
       "      <td>2016-01-11 17:31:12.489000000</td>\n",
       "      <td>44.329701</td>\n",
       "      <td>2016-01-17 16:24:42.765000000</td>\n",
       "    </tr>\n",
       "    <tr>\n",
       "      <th>3</th>\n",
       "      <td>FFDF2B2C-F514-EF7F-6538-A6A53518E9DC</td>\n",
       "      <td>86.030665</td>\n",
       "      <td>2016-04-30 06:50:39.801000000</td>\n",
       "      <td>68.824532</td>\n",
       "      <td>2016-04-30 17:20:38.727000000</td>\n",
       "      <td>61.942079</td>\n",
       "      <td>2016-05-12 07:47:16.326000000</td>\n",
       "      <td>49.553663</td>\n",
       "      <td>2016-05-07 16:09:20.485000000</td>\n",
       "      <td>49.553663</td>\n",
       "      <td>2016-05-24 12:51:18.016000000</td>\n",
       "      <td>44.598297</td>\n",
       "      <td>2016-05-26 08:09:12.058000000</td>\n",
       "    </tr>\n",
       "    <tr>\n",
       "      <th>4</th>\n",
       "      <td>5ECBEEB6-F1CE-80AE-3164-E45E99473FB4</td>\n",
       "      <td>64.813800</td>\n",
       "      <td>2015-12-13 17:06:10.750000000</td>\n",
       "      <td>51.491040</td>\n",
       "      <td>2015-12-14 12:25:12.056000000</td>\n",
       "      <td>41.932832</td>\n",
       "      <td>2015-12-29 14:25:22.594000000</td>\n",
       "      <td>36.929549</td>\n",
       "      <td>2015-12-28 01:29:55.901000000</td>\n",
       "      <td>33.236594</td>\n",
       "      <td>2015-12-29 14:46:06.628000000</td>\n",
       "      <td>33.236594</td>\n",
       "      <td>2016-01-05 01:06:59.546000000</td>\n",
       "    </tr>\n",
       "  </tbody>\n",
       "</table>\n",
       "</div>"
      ],
      "text/plain": [
       "                             student_id  assignment1_grade  \\\n",
       "0  B73F2C11-70F0-E37D-8B10-1D20AFED50B1          92.733946   \n",
       "1  98A0FAE0-A19A-13D2-4BB5-CFBFD94031D1          86.790821   \n",
       "2  D0F62040-CEB0-904C-F563-2F8620916C4E          85.512541   \n",
       "3  FFDF2B2C-F514-EF7F-6538-A6A53518E9DC          86.030665   \n",
       "4  5ECBEEB6-F1CE-80AE-3164-E45E99473FB4          64.813800   \n",
       "\n",
       "          assignment1_submission  assignment2_grade  \\\n",
       "0  2015-11-02 06:55:34.282000000          83.030552   \n",
       "1  2015-11-29 14:57:44.429000000          86.290821   \n",
       "2  2016-01-09 05:36:02.389000000          85.512541   \n",
       "3  2016-04-30 06:50:39.801000000          68.824532   \n",
       "4  2015-12-13 17:06:10.750000000          51.491040   \n",
       "\n",
       "          assignment2_submission  assignment3_grade  \\\n",
       "0  2015-11-09 02:22:58.938000000          67.164441   \n",
       "1  2015-12-06 17:41:18.449000000          69.772657   \n",
       "2  2016-01-09 06:39:44.416000000          68.410033   \n",
       "3  2016-04-30 17:20:38.727000000          61.942079   \n",
       "4  2015-12-14 12:25:12.056000000          41.932832   \n",
       "\n",
       "          assignment3_submission  assignment4_grade  \\\n",
       "0  2015-11-12 08:58:33.998000000          53.011553   \n",
       "1  2015-12-10 08:54:55.904000000          55.098125   \n",
       "2  2016-01-15 20:22:45.882000000          54.728026   \n",
       "3  2016-05-12 07:47:16.326000000          49.553663   \n",
       "4  2015-12-29 14:25:22.594000000          36.929549   \n",
       "\n",
       "          assignment4_submission  assignment5_grade  \\\n",
       "0  2015-11-16 01:21:24.663000000          47.710398   \n",
       "1  2015-12-13 17:32:30.941000000          49.588313   \n",
       "2  2016-01-11 12:41:50.749000000          49.255224   \n",
       "3  2016-05-07 16:09:20.485000000          49.553663   \n",
       "4  2015-12-28 01:29:55.901000000          33.236594   \n",
       "\n",
       "          assignment5_submission  assignment6_grade  \\\n",
       "0  2015-11-20 13:24:59.692000000          38.168318   \n",
       "1  2015-12-19 23:26:39.285000000          44.629482   \n",
       "2  2016-01-11 17:31:12.489000000          44.329701   \n",
       "3  2016-05-24 12:51:18.016000000          44.598297   \n",
       "4  2015-12-29 14:46:06.628000000          33.236594   \n",
       "\n",
       "          assignment6_submission  \n",
       "0  2015-11-22 18:31:15.934000000  \n",
       "1  2015-12-21 17:07:24.275000000  \n",
       "2  2016-01-17 16:24:42.765000000  \n",
       "3  2016-05-26 08:09:12.058000000  \n",
       "4  2016-01-05 01:06:59.546000000  "
      ]
     },
     "execution_count": 95,
     "metadata": {},
     "output_type": "execute_result"
    }
   ],
   "source": [
    "df.head()"
   ]
  },
  {
   "cell_type": "code",
   "execution_count": 97,
   "metadata": {},
   "outputs": [
    {
     "data": {
      "text/plain": [
       "2315"
      ]
     },
     "execution_count": 97,
     "metadata": {},
     "output_type": "execute_result"
    }
   ],
   "source": [
    "len(df)"
   ]
  },
  {
   "cell_type": "code",
   "execution_count": 101,
   "metadata": {
    "collapsed": true
   },
   "outputs": [],
   "source": [
    "early = df[df['assignment1_submission'] <= '2015-12-31']\n",
    "late = df[df['assignment1_submission'] > '2015-12-31']"
   ]
  },
  {
   "cell_type": "code",
   "execution_count": 99,
   "metadata": {},
   "outputs": [
    {
     "data": {
      "text/plain": [
       "assignment1_grade    74.972741\n",
       "assignment2_grade    67.252190\n",
       "assignment3_grade    61.129050\n",
       "assignment4_grade    54.157620\n",
       "assignment5_grade    48.634643\n",
       "assignment6_grade    43.838980\n",
       "dtype: float64"
      ]
     },
     "execution_count": 99,
     "metadata": {},
     "output_type": "execute_result"
    }
   ],
   "source": [
    "early.mean()"
   ]
  },
  {
   "cell_type": "code",
   "execution_count": 100,
   "metadata": {},
   "outputs": [
    {
     "data": {
      "text/plain": [
       "assignment1_grade    74.017429\n",
       "assignment2_grade    66.370822\n",
       "assignment3_grade    60.023244\n",
       "assignment4_grade    54.058138\n",
       "assignment5_grade    48.599402\n",
       "assignment6_grade    43.844384\n",
       "dtype: float64"
      ]
     },
     "execution_count": 100,
     "metadata": {},
     "output_type": "execute_result"
    }
   ],
   "source": [
    "late.mean()"
   ]
  },
  {
   "cell_type": "code",
   "execution_count": 102,
   "metadata": {
    "collapsed": true
   },
   "outputs": [],
   "source": [
    "from scipy import stats\n",
    "stats.ttest_ind?"
   ]
  },
  {
   "cell_type": "code",
   "execution_count": 104,
   "metadata": {},
   "outputs": [
    {
     "data": {
      "text/plain": [
       "Ttest_indResult(statistic=1.400549944897566, pvalue=0.16148283016060577)"
      ]
     },
     "execution_count": 104,
     "metadata": {},
     "output_type": "execute_result"
    }
   ],
   "source": [
    "stats.ttest_ind(early['assignment1_grade'], late['assignment1_grade'])"
   ]
  },
  {
   "cell_type": "code",
   "execution_count": null,
   "metadata": {
    "collapsed": true
   },
   "outputs": [],
   "source": [
    "stats.ttest_ind(early['assignment2_grade'], late['assignment2_grade'])"
   ]
  },
  {
   "cell_type": "code",
   "execution_count": null,
   "metadata": {
    "collapsed": true
   },
   "outputs": [],
   "source": [
    "stats.ttest_ind(early['assignment3_grade'], late['assignment3_grade'])"
   ]
  }
 ],
 "metadata": {
  "kernelspec": {
   "display_name": "Python 3",
   "language": "python",
   "name": "python3"
  },
  "language_info": {
   "codemirror_mode": {
    "name": "ipython",
    "version": 3
   },
   "file_extension": ".py",
   "mimetype": "text/x-python",
   "name": "python",
   "nbconvert_exporter": "python",
   "pygments_lexer": "ipython3",
   "version": "3.6.2"
  }
 },
 "nbformat": 4,
 "nbformat_minor": 1
}
